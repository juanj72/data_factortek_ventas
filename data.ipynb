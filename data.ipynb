{
 "cells": [
  {
   "cell_type": "code",
   "execution_count": 16,
   "metadata": {},
   "outputs": [],
   "source": [
    "import pandas as pd\n",
    "from datetime import datetime\n",
    "import smtplib\n",
    "from email.mime.multipart import MIMEMultipart\n",
    "from email.mime.text import MIMEText\n",
    "from email.mime.application import MIMEApplication\n",
    "import os\n"
   ]
  },
  {
   "cell_type": "code",
   "execution_count": 17,
   "metadata": {},
   "outputs": [
    {
     "name": "stderr",
     "output_type": "stream",
     "text": [
      "C:\\Users\\USUARIO\\AppData\\Local\\Temp\\ipykernel_11408\\3333038216.py:2: DtypeWarning: Columns (89,107) have mixed types. Specify dtype option on import or set low_memory=False.\n",
      "  datos = pd.read_csv('cab.csv')\n"
     ]
    }
   ],
   "source": [
    "####Dataframe del CAB\n",
    "datos = pd.read_csv('cab.csv')\n",
    "datos = pd.DataFrame(datos)"
   ]
  },
  {
   "cell_type": "code",
   "execution_count": 18,
   "metadata": {},
   "outputs": [
    {
     "name": "stdout",
     "output_type": "stream",
     "text": [
      "FL    49\n",
      "TX    37\n",
      "NC    12\n",
      "CA     9\n",
      "NJ     8\n",
      "GA     7\n",
      "NY     6\n",
      "PA     5\n",
      "OK     5\n",
      "OH     5\n",
      "VA     4\n",
      "IL     4\n",
      "MD     4\n",
      "UT     3\n",
      "NV     2\n",
      "MO     2\n",
      "MI     2\n",
      "ID     2\n",
      "NE     1\n",
      "MN     1\n",
      "KS     1\n",
      "IN     1\n",
      "CO     1\n",
      "AZ     1\n",
      "Name: STATE, dtype: int64\n",
      "['FL' 'TX' 'NC']\n"
     ]
    }
   ],
   "source": [
    "########DataFrame VENTAS FACTORTEK\n",
    "ventas = pd.read_excel('ventas.xlsx')\n",
    "\n",
    "ventas = pd.DataFrame(ventas)\n",
    "#print(ventas['STATE'].unique())\n",
    "estados = ventas['STATE'].unique()\n",
    "\n",
    "print(ventas['STATE'].value_counts())\n",
    "\n",
    "criterios = ventas['STATE'].value_counts()\n",
    "estados_a_evaluar=criterios[criterios>=10]\n",
    "print(estados_a_evaluar.index.values)"
   ]
  },
  {
   "cell_type": "code",
   "execution_count": 19,
   "metadata": {},
   "outputs": [],
   "source": [
    "#print(datos[datos['Years_In_Business']<=2])\n",
    "base_general = datos[datos['Years_In_Business']<=2 & (datos['CDL_Drivers']>0)]\n",
    "base_general = base_general[(base_general['Trucks']>1) & (base_general['Trucks']<=6)]\n",
    "base_general = base_general[(base_general['Power_Units']>1) & (base_general['Power_Units']<=6)]\n",
    "base_general = base_general[base_general['Buses']==0]\n",
    "#base_final = base_final[base_final['Mailing_State'].isin(estados_a_evaluar.index.values)]\n",
    "\n",
    "base_final=base_general[base_general['Prefix']=='MC']\n",
    "\n",
    "#estructurar resta de fechas en columna policy effective date\n",
    "\n",
    "base_general.to_excel('base_general.xlsx',index=False)\n"
   ]
  },
  {
   "cell_type": "code",
   "execution_count": 20,
   "metadata": {},
   "outputs": [],
   "source": [
    "#base1 filtro trucks\n",
    "base1 = datos[datos['Prefix']=='MC']\n",
    "base1 = base1[(base1['Trucks']>2) & (base1['Trucks']<=10)]\n",
    "base1.to_excel('base_filtro_trucks_1.xlsx',index=False)\n",
    "\n",
    "base2 = datos[datos['Prefix']=='MC']\n",
    "base2 = base2[(base2['Trucks']>2) & (base2['Trucks']<=10)]\n",
    "base2 = base2[base2['Mailing_State'].isin(['FL','TX','NC'])]\n",
    "#print(base2)\n",
    "base2.to_excel('base_filtro_trucks_2_mas_filtro_estado.xlsx',index=False)"
   ]
  },
  {
   "cell_type": "code",
   "execution_count": 21,
   "metadata": {},
   "outputs": [],
   "source": [
    "base3 = datos[datos['Prefix']=='MC']\n",
    "base3 = base3[base3['CDL_Drivers']>0]\n",
    "base3.to_excel('base_filtro_CDL_Drivers_sin_filtro_estado.xlsx',index=False)\n",
    "\n",
    "base4 = datos[datos['Prefix']=='MC']\n",
    "base4 = base4[base4['CDL_Drivers']>0]\n",
    "base4 = base4[base4['Mailing_State'].isin(estados_a_evaluar.index.values)]\n",
    "base4.to_excel('base_filtro_CDL_Drivers_con_filtro_estado.xlsx',index=False)"
   ]
  },
  {
   "cell_type": "code",
   "execution_count": 22,
   "metadata": {},
   "outputs": [],
   "source": [
    "base5 = datos[datos['Prefix']=='MC']\n",
    "base5 = base5[(base5['Power_Units']>0) & (base5['Power_Units']<=6)]\n",
    "base5.to_excel('base_filtro_Power_units_sin_filtro_estado.xlsx',index=False)\n",
    "\n",
    "base6 = datos[datos['Prefix']=='MC']\n",
    "base6 = base6[(base6['Power_Units']>0) & (base6['Power_Units']<=6)]\n",
    "base6 = base6[base6['Mailing_State'].isin(estados_a_evaluar.index.values)]\n",
    "base6.to_excel('base_filtro_Power_units_con_filtro_estado.xlsx',index=False)"
   ]
  },
  {
   "cell_type": "code",
   "execution_count": 23,
   "metadata": {},
   "outputs": [],
   "source": [
    "base7 = datos[datos['Prefix']=='MC']\n",
    "base7 = base7[base7['Buses']==0]\n",
    "base7.to_excel('base_filtro_Buses_sin_filtro_estado.xlsx',index=False)\n",
    "\n",
    "base8 = datos[datos['Prefix']=='MC']\n",
    "base8 = base8[base8['Buses']==0]\n",
    "base8 = base8[base8['Mailing_State'].isin(estados_a_evaluar.index.values)]\n",
    "base8.to_excel('base_filtro_Buses_con_filtro_estado.xlsx',index=False)\n",
    "\n"
   ]
  },
  {
   "cell_type": "code",
   "execution_count": 24,
   "metadata": {},
   "outputs": [],
   "source": [
    "base9 = datos[datos['Prefix']=='MC']\n",
    "base9 = base9[base9['Policy_Expiration_Date']=='08/15/2023']\n",
    "\n",
    "base9.to_excel('seguros_que_vencen_hoy.xlsx',index=False)"
   ]
  },
  {
   "cell_type": "code",
   "execution_count": 25,
   "metadata": {},
   "outputs": [
    {
     "name": "stderr",
     "output_type": "stream",
     "text": [
      "C:\\Users\\USUARIO\\AppData\\Local\\Temp\\ipykernel_11408\\3824454444.py:13: SettingWithCopyWarning: \n",
      "A value is trying to be set on a copy of a slice from a DataFrame.\n",
      "Try using .loc[row_indexer,col_indexer] = value instead\n",
      "\n",
      "See the caveats in the documentation: https://pandas.pydata.org/pandas-docs/stable/user_guide/indexing.html#returning-a-view-versus-a-copy\n",
      "  base10['fecha_gestion']=fecha_formateada\n",
      "C:\\Users\\USUARIO\\AppData\\Local\\Temp\\ipykernel_11408\\3824454444.py:14: SettingWithCopyWarning: \n",
      "A value is trying to be set on a copy of a slice from a DataFrame.\n",
      "Try using .loc[row_indexer,col_indexer] = value instead\n",
      "\n",
      "See the caveats in the documentation: https://pandas.pydata.org/pandas-docs/stable/user_guide/indexing.html#returning-a-view-versus-a-copy\n",
      "  base10['Policy_Expiration_Date']=pd.to_datetime(base10['Policy_Expiration_Date'])\n",
      "C:\\Users\\USUARIO\\AppData\\Local\\Temp\\ipykernel_11408\\3824454444.py:15: SettingWithCopyWarning: \n",
      "A value is trying to be set on a copy of a slice from a DataFrame.\n",
      "Try using .loc[row_indexer,col_indexer] = value instead\n",
      "\n",
      "See the caveats in the documentation: https://pandas.pydata.org/pandas-docs/stable/user_guide/indexing.html#returning-a-view-versus-a-copy\n",
      "  base10['fecha_gestion']=pd.to_datetime(base10['fecha_gestion'])\n",
      "C:\\Users\\USUARIO\\AppData\\Local\\Temp\\ipykernel_11408\\3824454444.py:16: SettingWithCopyWarning: \n",
      "A value is trying to be set on a copy of a slice from a DataFrame.\n",
      "Try using .loc[row_indexer,col_indexer] = value instead\n",
      "\n",
      "See the caveats in the documentation: https://pandas.pydata.org/pandas-docs/stable/user_guide/indexing.html#returning-a-view-versus-a-copy\n",
      "  base10['Dias_para_expiración']=(base10['Policy_Expiration_Date']-base10['fecha_gestion']).dt.days\n"
     ]
    },
    {
     "name": "stdout",
     "output_type": "stream",
     "text": [
      "69\n"
     ]
    }
   ],
   "source": [
    "base10 = datos[datos['Prefix']=='MC']\n",
    "# Definir la fecha\n",
    "fecha_actual = datetime.now()\n",
    "\n",
    "# Formatear la fecha como una cadena legible\n",
    "formato = \"%m-%d-%Y %H:%M:%S\" \n",
    "fecha_formateada = fecha_actual.strftime(formato)\n",
    "fecha_formateada = datetime.strptime(fecha_formateada,formato)\n",
    "fecha = '11-06-2023'\n",
    "conv = datetime.strptime(fecha,\"%m-%d-%Y\")\n",
    "fecha_si=conv.strftime(formato)\n",
    "\n",
    "base10['fecha_gestion']=fecha_formateada\n",
    "base10['Policy_Expiration_Date']=pd.to_datetime(base10['Policy_Expiration_Date'])\n",
    "base10['fecha_gestion']=pd.to_datetime(base10['fecha_gestion'])\n",
    "base10['Dias_para_expiración']=(base10['Policy_Expiration_Date']-base10['fecha_gestion']).dt.days\n",
    "finalsi= conv - fecha_formateada\n",
    "base10 = base10[(base10['Dias_para_expiración']>=60) & (base10['Dias_para_expiración']<=90) ]\n",
    "\n",
    "base10.to_excel('prueba_base_fechas.xlsx',index=False)\n",
    "\n",
    "\n",
    "print(finalsi.days)\n",
    "\n"
   ]
  },
  {
   "cell_type": "code",
   "execution_count": 26,
   "metadata": {},
   "outputs": [
    {
     "name": "stdout",
     "output_type": "stream",
     "text": [
      "           DOT      State_ID Prefix     Docket  \\\n",
      "114     728824           NaN     MC   333596.0   \n",
      "124     729183           NaN     MC   337658.0   \n",
      "196     785990           NaN     MC   351067.0   \n",
      "403     810458  TX005416765C     MC   360270.0   \n",
      "404     810458  TX005416765C     MC   360270.0   \n",
      "...        ...           ...    ...        ...   \n",
      "10316  4036437           NaN     MC  1526354.0   \n",
      "10331  4036541           NaN     MC  1526408.0   \n",
      "10348  4041864           NaN     MC  1533953.0   \n",
      "10383  4042153           NaN     MC  1529821.0   \n",
      "10384  4042164           NaN     MC  1529829.0   \n",
      "\n",
      "                                       Legal_Name DBA_Name         Phone  \\\n",
      "114                D & A EXPRESS INC OF S FLORIDA      NaN  3.054318e+09   \n",
      "124                               CARLOS R GARCIA      NaN  9.046952e+09   \n",
      "196                             KYL TRANSPORT INC      NaN  7.862991e+09   \n",
      "403                                TRANSNIETO INC      NaN  9.566052e+09   \n",
      "404                                TRANSNIETO INC      NaN  9.566052e+09   \n",
      "...                                           ...      ...           ...   \n",
      "10316                           QIK TRANSPORT LLC      NaN  8.504972e+09   \n",
      "10331                     FAST AUTO TRANSPORT LLC      NaN  2.816697e+09   \n",
      "10348                        CHAMBERS CARRIER LLC      NaN  9.803336e+09   \n",
      "10383  R AND D LOGISTICS AND PARKING SERVICES LLC      NaN  9.105682e+09   \n",
      "10384                        HOME EQUITY RESCUERS      NaN  8.328722e+09   \n",
      "\n",
      "           Cell_Num     Fax_Phone  Mail_Phone  ... Inspection_Radius  \\\n",
      "114             NaN  7.867323e+09         NaN  ...              1195   \n",
      "124    9.045457e+09  9.046953e+09         NaN  ...                 0   \n",
      "196             NaN           NaN         NaN  ...                 0   \n",
      "403             NaN           NaN         NaN  ...                68   \n",
      "404             NaN           NaN         NaN  ...                68   \n",
      "...             ...           ...         ...  ...               ...   \n",
      "10316           NaN           NaN         NaN  ...                 0   \n",
      "10331           NaN           NaN         NaN  ...                 0   \n",
      "10348  9.803336e+09           NaN         NaN  ...                92   \n",
      "10383  9.105682e+09           NaN         NaN  ...                 0   \n",
      "10384  2.814519e+09           NaN         NaN  ...                 0   \n",
      "\n",
      "      Safety_Rating Safety_Rating_Date Unsafe_Driving_Alert HOS_Alert  \\\n",
      "114             NaN                NaN                  NaN       NaN   \n",
      "124             NaN                NaN                  NaN       NaN   \n",
      "196             NaN                NaN                  NaN       NaN   \n",
      "403             NaN                NaN                  NaN       NaN   \n",
      "404             NaN                NaN                  NaN       NaN   \n",
      "...             ...                ...                  ...       ...   \n",
      "10316           NaN                NaN                  NaN       NaN   \n",
      "10331           NaN                NaN                  NaN       NaN   \n",
      "10348           NaN                NaN                  NaN       NaN   \n",
      "10383           NaN                NaN                  NaN       NaN   \n",
      "10384           NaN                NaN                  NaN       NaN   \n",
      "\n",
      "      Driver_Fitness_Alert Controlled_Substance_Alert  \\\n",
      "114                    NaN                        NaN   \n",
      "124                    NaN                        NaN   \n",
      "196                    NaN                        NaN   \n",
      "403                    NaN                        NaN   \n",
      "404                    NaN                        NaN   \n",
      "...                    ...                        ...   \n",
      "10316                  NaN                        NaN   \n",
      "10331                  NaN                        NaN   \n",
      "10348                  NaN                        NaN   \n",
      "10383                  NaN                        NaN   \n",
      "10384                  NaN                        NaN   \n",
      "\n",
      "      Vehicle_Maintenance_Alert Hazmat_Alert Crash_Alert  \n",
      "114                         NaN          NaN         NaN  \n",
      "124                         NaN          NaN         NaN  \n",
      "196                         NaN          NaN         NaN  \n",
      "403                         NaN          NaN         NaN  \n",
      "404                         NaN          NaN         NaN  \n",
      "...                         ...          ...         ...  \n",
      "10316                       NaN          NaN         NaN  \n",
      "10331                       NaN          NaN         NaN  \n",
      "10348                       NaN          NaN         NaN  \n",
      "10383                       NaN          NaN         NaN  \n",
      "10384                       NaN          NaN         NaN  \n",
      "\n",
      "[604 rows x 109 columns]\n"
     ]
    }
   ],
   "source": [
    "# Cargar los apellidos latinos desde el archivo Excel\n",
    "apellidos = pd.read_excel('apellidos_latinos.xlsx')\n",
    "latinos = apellidos['Apellido'].unique()\n",
    "\n",
    "# Cargar la base de datos 'datos' (asegúrate de que esté definida previamente)\n",
    "base11 = datos[datos['Prefix'] == 'MC']\n",
    "base11 = base11.dropna(subset=['Company_Rep1'])\n",
    "\n",
    "# Filtrar los datos por apellidos latinos en Company_Rep1\n",
    "filtered_data = base11[base11['Company_Rep1'].str.contains('|'.join(latinos))]\n",
    "\n",
    "filtered_data = filtered_data[filtered_data['Mailing_State'].isin(estados_a_evaluar.index.values)]\n",
    "print(filtered_data)\n",
    "\n",
    "filtered_data.to_excel('latinos.xlsx',index=False)"
   ]
  },
  {
   "cell_type": "code",
   "execution_count": 33,
   "metadata": {},
   "outputs": [
    {
     "name": "stdout",
     "output_type": "stream",
     "text": [
      "Correo enviado correctamente\n"
     ]
    }
   ],
   "source": [
    "\n",
    "from_email= 'juan.jara@creditek.com.co'\n",
    "password = os.getenv('password')\n",
    "\n",
    "to_email = 'sistemas@jarainmobiliaria.com'\n",
    "subject = 'Archivo de excel'\n",
    "\n",
    "\n",
    "\n",
    "msg = MIMEMultipart()\n",
    "msg['From'] = from_email\n",
    "msg['To'] = to_email\n",
    "msg['Subject'] = subject\n",
    "\n",
    "body = \"Adjunto encontrarás el archivo de Excel generado por Pandas.\"\n",
    "msg.attach(MIMEText(body, 'plain'))\n",
    "\n",
    "for excel_file in ['base_general.xlsx','latinos.xlsx']:\n",
    "    with open(excel_file, \"rb\") as attachment:\n",
    "        part = MIMEApplication(attachment.read(), Name=excel_file)\n",
    "        part['Content-Disposition'] = f'attachment; filename={excel_file}'\n",
    "        msg.attach(part)\n",
    "\n",
    "\n",
    "server = smtplib.SMTP('smtp.office365.com', 587)\n",
    "server.starttls()\n",
    "server.login(str(from_email), str(password))\n",
    "\n",
    "# Enviar el correo electrónico\n",
    "server.sendmail(from_email, to_email, msg.as_string())\n",
    "\n",
    "server.quit()\n",
    "\n",
    "print(\"Correo enviado correctamente\")"
   ]
  }
 ],
 "metadata": {
  "kernelspec": {
   "display_name": "Python 3",
   "language": "python",
   "name": "python3"
  },
  "language_info": {
   "codemirror_mode": {
    "name": "ipython",
    "version": 3
   },
   "file_extension": ".py",
   "mimetype": "text/x-python",
   "name": "python",
   "nbconvert_exporter": "python",
   "pygments_lexer": "ipython3",
   "version": "3.10.4"
  },
  "orig_nbformat": 4
 },
 "nbformat": 4,
 "nbformat_minor": 2
}
